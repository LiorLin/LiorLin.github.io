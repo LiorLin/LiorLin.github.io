{
 "cells": [
  {
   "cell_type": "code",
   "execution_count": null,
   "id": "f62d7ce9-26c7-4792-82e4-18a48cbe4170",
   "metadata": {},
   "outputs": [],
   "source": [
    "# This is a notebook file for assignmnet 1"
   ]
  },
  {
   "cell_type": "code",
   "execution_count": null,
   "id": "e853ad2b-483f-4a0a-b27c-d8c5a20d08d9",
   "metadata": {},
   "outputs": [],
   "source": [
    "# Rectangle data\n",
    "width = 5\n",
    "length = 7"
   ]
  },
  {
   "cell_type": "code",
   "execution_count": 14,
   "id": "dabfc770-e536-4491-b24b-630239f7ff1c",
   "metadata": {},
   "outputs": [
    {
     "name": "stdout",
     "output_type": "stream",
     "text": [
      "The area of the rectangle is 35.\n"
     ]
    }
   ],
   "source": [
    "area = width*length\n",
    "print (f\"The area of the rectangle is {area}.\")"
   ]
  },
  {
   "cell_type": "code",
   "execution_count": 15,
   "id": "3e54e7a4-78dd-4cdf-8880-bd6ad4c062d2",
   "metadata": {},
   "outputs": [
    {
     "name": "stdout",
     "output_type": "stream",
     "text": [
      "The circumference of the rectangle is 24.\n"
     ]
    }
   ],
   "source": [
    "circumference = (2*width)+(2*length)\n",
    "print (f\"The circumference of the rectangle is {circumference}.\")"
   ]
  },
  {
   "cell_type": "code",
   "execution_count": 18,
   "id": "0b18b1ce-e4fd-41b1-a30e-3c2bcb4337b6",
   "metadata": {},
   "outputs": [],
   "source": [
    "# Circle data\n",
    "radius = 3\n",
    "pi = 3.14"
   ]
  },
  {
   "cell_type": "code",
   "execution_count": 22,
   "id": "eca86857-02fd-4c7d-bab5-4b94bfa5e166",
   "metadata": {},
   "outputs": [
    {
     "name": "stdout",
     "output_type": "stream",
     "text": [
      "The area of the circle is 28.26.\n"
     ]
    }
   ],
   "source": [
    "area = pi*(radius**2)\n",
    "print (f\"The area of the circle is {area}.\")"
   ]
  },
  {
   "cell_type": "code",
   "execution_count": 23,
   "id": "7eaad346-085f-4254-ab37-158895e2cfb0",
   "metadata": {},
   "outputs": [
    {
     "name": "stdout",
     "output_type": "stream",
     "text": [
      "The circumference of the circle is 18.84.\n"
     ]
    }
   ],
   "source": [
    "circumference = 2*pi*radius\n",
    "print (f\"The circumference of the circle is {circumference}.\")"
   ]
  }
 ],
 "metadata": {
  "kernelspec": {
   "display_name": "Python 3 (ipykernel)",
   "language": "python",
   "name": "python3"
  },
  "language_info": {
   "codemirror_mode": {
    "name": "ipython",
    "version": 3
   },
   "file_extension": ".py",
   "mimetype": "text/x-python",
   "name": "python",
   "nbconvert_exporter": "python",
   "pygments_lexer": "ipython3",
   "version": "3.13.0"
  }
 },
 "nbformat": 4,
 "nbformat_minor": 5
}
